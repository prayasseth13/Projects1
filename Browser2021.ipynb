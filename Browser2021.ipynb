{
 "cells": [
  {
   "cell_type": "code",
   "execution_count": 1,
   "metadata": {},
   "outputs": [],
   "source": [
    "from PyQt5.QtWidgets import *\n",
    "import sys\n",
    "from PyQt5.QtWebEngineWidgets import *\n",
    "from PyQt5.QtCore import *\n"
   ]
  },
  {
   "cell_type": "code",
   "execution_count": null,
   "metadata": {},
   "outputs": [],
   "source": [
    "class Mainwindow(QMainWindow):\n",
    "    \n",
    "    def __init__(self):\n",
    "        super(Mainwindow , self ).__init__()\n",
    "        self.browser = QWebEngineView()\n",
    "        self.browser.setUrl(QUrl('http://google.com'))\n",
    "        self.setCentralWidget(self.browser)\n",
    "        \n",
    "        self.showMaximized() #maximised the screen\n",
    "        \n",
    "        #navigation bar\n",
    "        navbar = QToolBar()\n",
    "        self.addToolBar(navbar)\n",
    "        \n",
    "        Back_btn = QAction(' <- ' , self)\n",
    "        Back_btn.triggered.connect(self.browser.back)\n",
    "        navbar.addAction(Back_btn)\n",
    "        \n",
    "        forward_btn = QAction(' -> ' , self)\n",
    "        forward_btn.triggered.connect(self.browser.forward)\n",
    "        navbar.addAction(forward_btn)\n",
    "        \n",
    "        Reload_btn = QAction(' Rload ' , self)\n",
    "        Reload_btn.triggered.connect(self.browser.reload)\n",
    "        navbar.addAction(Reload_btn)\n",
    "        \n",
    "        Home_btn = QAction(' Home ' , self)\n",
    "        Home_btn.triggered.connect(self.navigatehome)\n",
    "        navbar.addAction(Home_btn)\n",
    "        \n",
    "        self.url_bar = QLineEdit()\n",
    "        navbar.addWidget(self.url_bar)\n",
    "        self.url_bar.returnPressed.connect(self.navigate_to_url)\n",
    "        self.browser.urlChanged.connect(self.update_url)\n",
    "    \n",
    "    \n",
    "    \n",
    "    \n",
    "    def navigatehome(self):\n",
    "        self.browser.setUrl(QUrl('http://google.com'))\n",
    "        \n",
    "    def navigate_to_url(self):\n",
    "        url = self.url_bar.text()\n",
    "        self.browser.setUrl(QUrl(url))\n",
    "        \n",
    "    def update_url(self , q):\n",
    "        self.url_bar.setText(q.toString())\n",
    "        \n",
    "app = QApplication(sys.argv)    \n",
    "QApplication.setApplicationName('Brainmatic')\n",
    "window = Mainwindow()\n",
    "app.exec_()\n",
    "\n"
   ]
  },
  {
   "cell_type": "code",
   "execution_count": null,
   "metadata": {},
   "outputs": [],
   "source": []
  }
 ],
 "metadata": {
  "kernelspec": {
   "display_name": "Python 3",
   "language": "python",
   "name": "python3"
  },
  "language_info": {
   "codemirror_mode": {
    "name": "ipython",
    "version": 3
   },
   "file_extension": ".py",
   "mimetype": "text/x-python",
   "name": "python",
   "nbconvert_exporter": "python",
   "pygments_lexer": "ipython3",
   "version": "3.8.3"
  }
 },
 "nbformat": 4,
 "nbformat_minor": 4
}
